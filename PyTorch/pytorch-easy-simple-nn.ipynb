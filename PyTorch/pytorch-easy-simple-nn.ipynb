{
 "cells": [
  {
   "cell_type": "code",
   "execution_count": null,
   "id": "3edc9b9acbc1c7d6",
   "metadata": {
    "ExecuteTime": {
     "end_time": "2024-03-04T20:36:26.245532Z",
     "start_time": "2024-03-04T20:36:26.214554Z"
    }
   },
   "outputs": [],
   "source": [
    "!conda install pytorch torchvision torchaudio pytorch-cuda=12.1 -c pytorch -c nvidia\n",
    "!conda install matplotlib scipy"
   ]
  },
  {
   "cell_type": "code",
   "execution_count": 2,
   "id": "initial_id",
   "metadata": {
    "ExecuteTime": {
     "end_time": "2024-03-04T20:29:02.769927Z",
     "start_time": "2024-03-04T20:28:59.983023Z"
    }
   },
   "outputs": [],
   "source": [
    "import torch\n",
    "from torch import nn, optim\n",
    "from torchvision import datasets, transforms\n",
    "import matplotlib.pyplot as plt\n",
    "import torch.nn.functional as F\n",
    "from torch.utils.data import DataLoader, random_split\n",
    "from torchvision.transforms import v2\n"
   ]
  },
  {
   "cell_type": "code",
   "execution_count": 3,
   "id": "3947287e9a48c9b3",
   "metadata": {
    "ExecuteTime": {
     "end_time": "2024-03-04T20:31:22.095115Z",
     "start_time": "2024-03-04T20:31:22.091270Z"
    }
   },
   "outputs": [
    {
     "name": "stdout",
     "output_type": "stream",
     "text": [
      "2.2.1\n",
      "Is CUDA supported by this system? True\n",
      "CUDA version: 12.1\n",
      "ID of current CUDA device: 0\n",
      "Name of current CUDA device: NVIDIA GeForce RTX 3060 Ti\n"
     ]
    }
   ],
   "source": [
    "print(torch.__version__)\n",
    "\n",
    "print(f\"Is CUDA supported by this system? {torch.cuda.is_available()}\")\n",
    "print(f\"CUDA version: {torch.version.cuda}\")\n",
    " \n",
    "# Storing ID of current CUDA device\n",
    "cuda_id = torch.cuda.current_device()\n",
    "print(f\"ID of current CUDA device: {torch.cuda.current_device()}\")\n",
    "       \n",
    "print(f\"Name of current CUDA device: {torch.cuda.get_device_name(cuda_id)}\")"
   ]
  },
  {
   "cell_type": "code",
   "execution_count": 4,
   "id": "a5120e802af4f675",
   "metadata": {
    "ExecuteTime": {
     "end_time": "2024-03-04T20:29:02.909874Z",
     "start_time": "2024-03-04T20:29:02.904658Z"
    }
   },
   "outputs": [
    {
     "data": {
      "text/plain": [
       "'cuda:0'"
      ]
     },
     "execution_count": 4,
     "metadata": {},
     "output_type": "execute_result"
    }
   ],
   "source": [
    "device = 'cuda:0' if torch.cuda.is_available() else 'cpu'\n",
    "device"
   ]
  },
  {
   "cell_type": "markdown",
   "id": "9b42a3d73988b52e",
   "metadata": {},
   "source": [
    "# Ładowanie danych"
   ]
  },
  {
   "cell_type": "code",
   "execution_count": 5,
   "id": "bed3123dba5fc1e0",
   "metadata": {
    "ExecuteTime": {
     "end_time": "2024-03-04T20:29:04.307047Z",
     "start_time": "2024-03-04T20:29:02.910880Z"
    }
   },
   "outputs": [],
   "source": [
    "training_data = datasets.MNIST(root=\"./data/mnist/train\", download=True, transform=transforms.ToTensor())"
   ]
  },
  {
   "cell_type": "code",
   "execution_count": 6,
   "id": "2d939a7163b10602",
   "metadata": {
    "ExecuteTime": {
     "end_time": "2024-03-04T20:29:04.311154Z",
     "start_time": "2024-03-04T20:29:04.307047Z"
    }
   },
   "outputs": [
    {
     "data": {
      "text/plain": [
       "torch.Size([60000, 28, 28])"
      ]
     },
     "execution_count": 6,
     "metadata": {},
     "output_type": "execute_result"
    }
   ],
   "source": [
    "training_data.data.shape"
   ]
  },
  {
   "cell_type": "code",
   "execution_count": 7,
   "id": "5813654384c6f5a9",
   "metadata": {
    "ExecuteTime": {
     "end_time": "2024-03-04T20:29:04.314965Z",
     "start_time": "2024-03-04T20:29:04.311154Z"
    }
   },
   "outputs": [
    {
     "data": {
      "text/plain": [
       "tensor([[  0,   0,   0,   0,   0,   0,   0,   0,   0,   0,   0,   0,   0,   0,\n",
       "           0,   0,   0,   0,   0,   0,   0,   0,   0,   0,   0,   0,   0,   0],\n",
       "        [  0,   0,   0,   0,   0,   0,   0,   0,   0,   0,   0,   0,   0,   0,\n",
       "           0,   0,   0,   0,   0,   0,   0,   0,   0,   0,   0,   0,   0,   0],\n",
       "        [  0,   0,   0,   0,   0,   0,   0,   0,   0,   0,   0,   0,   0,   0,\n",
       "           0,   0,   0,   0,   0,   0,   0,   0,   0,   0,   0,   0,   0,   0],\n",
       "        [  0,   0,   0,   0,   0,   0,   0,   0,   0,   0,   0,   0,   0,   0,\n",
       "           0,   0,   0,   0,   0,   0,   0,   0,   0,   0,   0,   0,   0,   0],\n",
       "        [  0,   0,   0,   0,   0,   0,   0,   0,   0,   0,   0,   0,   0,   0,\n",
       "           0,   0,   0,   0,   0,   0,   0,   0,   0,   0,   0,   0,   0,   0],\n",
       "        [  0,   0,   0,   0,   0,   0,   0,   0,   0,   0,   0,   0,   3,  18,\n",
       "          18,  18, 126, 136, 175,  26, 166, 255, 247, 127,   0,   0,   0,   0],\n",
       "        [  0,   0,   0,   0,   0,   0,   0,   0,  30,  36,  94, 154, 170, 253,\n",
       "         253, 253, 253, 253, 225, 172, 253, 242, 195,  64,   0,   0,   0,   0],\n",
       "        [  0,   0,   0,   0,   0,   0,   0,  49, 238, 253, 253, 253, 253, 253,\n",
       "         253, 253, 253, 251,  93,  82,  82,  56,  39,   0,   0,   0,   0,   0],\n",
       "        [  0,   0,   0,   0,   0,   0,   0,  18, 219, 253, 253, 253, 253, 253,\n",
       "         198, 182, 247, 241,   0,   0,   0,   0,   0,   0,   0,   0,   0,   0],\n",
       "        [  0,   0,   0,   0,   0,   0,   0,   0,  80, 156, 107, 253, 253, 205,\n",
       "          11,   0,  43, 154,   0,   0,   0,   0,   0,   0,   0,   0,   0,   0],\n",
       "        [  0,   0,   0,   0,   0,   0,   0,   0,   0,  14,   1, 154, 253,  90,\n",
       "           0,   0,   0,   0,   0,   0,   0,   0,   0,   0,   0,   0,   0,   0],\n",
       "        [  0,   0,   0,   0,   0,   0,   0,   0,   0,   0,   0, 139, 253, 190,\n",
       "           2,   0,   0,   0,   0,   0,   0,   0,   0,   0,   0,   0,   0,   0],\n",
       "        [  0,   0,   0,   0,   0,   0,   0,   0,   0,   0,   0,  11, 190, 253,\n",
       "          70,   0,   0,   0,   0,   0,   0,   0,   0,   0,   0,   0,   0,   0],\n",
       "        [  0,   0,   0,   0,   0,   0,   0,   0,   0,   0,   0,   0,  35, 241,\n",
       "         225, 160, 108,   1,   0,   0,   0,   0,   0,   0,   0,   0,   0,   0],\n",
       "        [  0,   0,   0,   0,   0,   0,   0,   0,   0,   0,   0,   0,   0,  81,\n",
       "         240, 253, 253, 119,  25,   0,   0,   0,   0,   0,   0,   0,   0,   0],\n",
       "        [  0,   0,   0,   0,   0,   0,   0,   0,   0,   0,   0,   0,   0,   0,\n",
       "          45, 186, 253, 253, 150,  27,   0,   0,   0,   0,   0,   0,   0,   0],\n",
       "        [  0,   0,   0,   0,   0,   0,   0,   0,   0,   0,   0,   0,   0,   0,\n",
       "           0,  16,  93, 252, 253, 187,   0,   0,   0,   0,   0,   0,   0,   0],\n",
       "        [  0,   0,   0,   0,   0,   0,   0,   0,   0,   0,   0,   0,   0,   0,\n",
       "           0,   0,   0, 249, 253, 249,  64,   0,   0,   0,   0,   0,   0,   0],\n",
       "        [  0,   0,   0,   0,   0,   0,   0,   0,   0,   0,   0,   0,   0,   0,\n",
       "          46, 130, 183, 253, 253, 207,   2,   0,   0,   0,   0,   0,   0,   0],\n",
       "        [  0,   0,   0,   0,   0,   0,   0,   0,   0,   0,   0,   0,  39, 148,\n",
       "         229, 253, 253, 253, 250, 182,   0,   0,   0,   0,   0,   0,   0,   0],\n",
       "        [  0,   0,   0,   0,   0,   0,   0,   0,   0,   0,  24, 114, 221, 253,\n",
       "         253, 253, 253, 201,  78,   0,   0,   0,   0,   0,   0,   0,   0,   0],\n",
       "        [  0,   0,   0,   0,   0,   0,   0,   0,  23,  66, 213, 253, 253, 253,\n",
       "         253, 198,  81,   2,   0,   0,   0,   0,   0,   0,   0,   0,   0,   0],\n",
       "        [  0,   0,   0,   0,   0,   0,  18, 171, 219, 253, 253, 253, 253, 195,\n",
       "          80,   9,   0,   0,   0,   0,   0,   0,   0,   0,   0,   0,   0,   0],\n",
       "        [  0,   0,   0,   0,  55, 172, 226, 253, 253, 253, 253, 244, 133,  11,\n",
       "           0,   0,   0,   0,   0,   0,   0,   0,   0,   0,   0,   0,   0,   0],\n",
       "        [  0,   0,   0,   0, 136, 253, 253, 253, 212, 135, 132,  16,   0,   0,\n",
       "           0,   0,   0,   0,   0,   0,   0,   0,   0,   0,   0,   0,   0,   0],\n",
       "        [  0,   0,   0,   0,   0,   0,   0,   0,   0,   0,   0,   0,   0,   0,\n",
       "           0,   0,   0,   0,   0,   0,   0,   0,   0,   0,   0,   0,   0,   0],\n",
       "        [  0,   0,   0,   0,   0,   0,   0,   0,   0,   0,   0,   0,   0,   0,\n",
       "           0,   0,   0,   0,   0,   0,   0,   0,   0,   0,   0,   0,   0,   0],\n",
       "        [  0,   0,   0,   0,   0,   0,   0,   0,   0,   0,   0,   0,   0,   0,\n",
       "           0,   0,   0,   0,   0,   0,   0,   0,   0,   0,   0,   0,   0,   0]],\n",
       "       dtype=torch.uint8)"
      ]
     },
     "execution_count": 7,
     "metadata": {},
     "output_type": "execute_result"
    }
   ],
   "source": [
    "training_data.data[0]"
   ]
  },
  {
   "cell_type": "code",
   "execution_count": 8,
   "id": "aecded699b8c97c9",
   "metadata": {
    "ExecuteTime": {
     "end_time": "2024-03-04T20:29:04.326405Z",
     "start_time": "2024-03-04T20:29:04.314965Z"
    }
   },
   "outputs": [
    {
     "data": {
      "text/plain": [
       "tensor([[[[0., 0., 0.,  ..., 0., 0., 0.],\n",
       "          [0., 0., 0.,  ..., 0., 0., 0.],\n",
       "          [0., 0., 0.,  ..., 0., 0., 0.],\n",
       "          ...,\n",
       "          [0., 0., 0.,  ..., 0., 0., 0.],\n",
       "          [0., 0., 0.,  ..., 0., 0., 0.],\n",
       "          [0., 0., 0.,  ..., 0., 0., 0.]]],\n",
       "\n",
       "\n",
       "        [[[0., 0., 0.,  ..., 0., 0., 0.],\n",
       "          [0., 0., 0.,  ..., 0., 0., 0.],\n",
       "          [0., 0., 0.,  ..., 0., 0., 0.],\n",
       "          ...,\n",
       "          [0., 0., 0.,  ..., 0., 0., 0.],\n",
       "          [0., 0., 0.,  ..., 0., 0., 0.],\n",
       "          [0., 0., 0.,  ..., 0., 0., 0.]]],\n",
       "\n",
       "\n",
       "        [[[0., 0., 0.,  ..., 0., 0., 0.],\n",
       "          [0., 0., 0.,  ..., 0., 0., 0.],\n",
       "          [0., 0., 0.,  ..., 0., 0., 0.],\n",
       "          ...,\n",
       "          [0., 0., 0.,  ..., 0., 0., 0.],\n",
       "          [0., 0., 0.,  ..., 0., 0., 0.],\n",
       "          [0., 0., 0.,  ..., 0., 0., 0.]]],\n",
       "\n",
       "\n",
       "        ...,\n",
       "\n",
       "\n",
       "        [[[0., 0., 0.,  ..., 0., 0., 0.],\n",
       "          [0., 0., 0.,  ..., 0., 0., 0.],\n",
       "          [0., 0., 0.,  ..., 0., 0., 0.],\n",
       "          ...,\n",
       "          [0., 0., 0.,  ..., 0., 0., 0.],\n",
       "          [0., 0., 0.,  ..., 0., 0., 0.],\n",
       "          [0., 0., 0.,  ..., 0., 0., 0.]]],\n",
       "\n",
       "\n",
       "        [[[0., 0., 0.,  ..., 0., 0., 0.],\n",
       "          [0., 0., 0.,  ..., 0., 0., 0.],\n",
       "          [0., 0., 0.,  ..., 0., 0., 0.],\n",
       "          ...,\n",
       "          [0., 0., 0.,  ..., 0., 0., 0.],\n",
       "          [0., 0., 0.,  ..., 0., 0., 0.],\n",
       "          [0., 0., 0.,  ..., 0., 0., 0.]]],\n",
       "\n",
       "\n",
       "        [[[0., 0., 0.,  ..., 0., 0., 0.],\n",
       "          [0., 0., 0.,  ..., 0., 0., 0.],\n",
       "          [0., 0., 0.,  ..., 0., 0., 0.],\n",
       "          ...,\n",
       "          [0., 0., 0.,  ..., 0., 0., 0.],\n",
       "          [0., 0., 0.,  ..., 0., 0., 0.],\n",
       "          [0., 0., 0.,  ..., 0., 0., 0.]]]])"
      ]
     },
     "execution_count": 8,
     "metadata": {},
     "output_type": "execute_result"
    }
   ],
   "source": [
    "loader = DataLoader(training_data, batch_size=10)\n",
    "data = next(iter(loader))\n",
    "data[0]"
   ]
  },
  {
   "cell_type": "code",
   "execution_count": 9,
   "id": "ccb9f1e2da15439",
   "metadata": {
    "ExecuteTime": {
     "end_time": "2024-03-04T20:29:15.611101Z",
     "start_time": "2024-03-04T20:29:14.332655Z"
    }
   },
   "outputs": [],
   "source": [
    "dataset_normal = datasets.MNIST(root=\"./data/mnist/train\", download=True, transform=transforms.ToTensor())"
   ]
  },
  {
   "cell_type": "code",
   "execution_count": 10,
   "id": "861a926b-de9c-4d53-b46b-bd86fd74c778",
   "metadata": {},
   "outputs": [],
   "source": [
    "transforms_data = transforms.Compose([\n",
    "    transforms.ToTensor(),\n",
    "    transforms.Normalize(0.5, 0.5),\n",
    "])"
   ]
  },
  {
   "cell_type": "code",
   "execution_count": 11,
   "id": "1cfba5a5d59ebaca",
   "metadata": {
    "ExecuteTime": {
     "end_time": "2024-03-04T20:29:15.619053Z",
     "start_time": "2024-03-04T20:29:15.611101Z"
    }
   },
   "outputs": [],
   "source": [
    "train_dataset, test_dataset, valid_dataset = random_split(dataset_normal, [0.6, 0.3, 0.1])"
   ]
  },
  {
   "cell_type": "code",
   "execution_count": 12,
   "id": "62e5c0db-8faf-47b3-9c7c-dcc31b8686b1",
   "metadata": {},
   "outputs": [],
   "source": [
    "train_dataset.dataset.transform = transforms_data\n",
    "test_dataset.dataset.transform = transforms_data\n",
    "valid_dataset.dataset.transfrom = transforms_data"
   ]
  },
  {
   "cell_type": "code",
   "execution_count": 13,
   "id": "215dd0878d0aa9f3",
   "metadata": {
    "ExecuteTime": {
     "end_time": "2024-03-04T20:29:15.622847Z",
     "start_time": "2024-03-04T20:29:15.619580Z"
    }
   },
   "outputs": [],
   "source": [
    "train_dataloader = DataLoader(train_dataset, batch_size=1000, shuffle=True)\n",
    "test_dataloader = DataLoader(test_dataset, batch_size=1000, shuffle=False)\n",
    "valid_dataloader = DataLoader(valid_dataset, batch_size=1000, shuffle=False)"
   ]
  },
  {
   "cell_type": "code",
   "execution_count": 14,
   "id": "ea374a75-c851-4b85-afb7-764e81b98d87",
   "metadata": {},
   "outputs": [
    {
     "name": "stderr",
     "output_type": "stream",
     "text": [
      "C:\\Users\\dwisn\\AppData\\Local\\Temp\\ipykernel_5804\\8331284.py:9: UserWarning: The use of `x.T` on tensors of dimension other than 2 to reverse their shape is deprecated and it will throw an error in a future release. Consider `x.mT` to transpose batches of matrices or `x.permute(*torch.arange(x.ndim - 1, -1, -1))` to reverse the dimensions of a tensor. (Triggered internally at C:\\cb\\pytorch_1000000000000\\work\\aten\\src\\ATen\\native\\TensorShape.cpp:3641.)\n",
      "  plt.imshow(img.T.squeeze())\n"
     ]
    },
    {
     "name": "stdout",
     "output_type": "stream",
     "text": [
      "torch.Size([1, 28, 28])\n",
      "torch.Size([1, 28, 28])\n",
      "torch.Size([1, 28, 28])\n",
      "torch.Size([1, 28, 28])\n",
      "torch.Size([1, 28, 28])\n",
      "torch.Size([1, 28, 28])\n",
      "torch.Size([1, 28, 28])\n",
      "torch.Size([1, 28, 28])\n",
      "torch.Size([1, 28, 28])\n"
     ]
    },
    {
     "data": {
      "image/png": "[encoded data removed]",
      "text/plain": [
       "<Figure size 800x800 with 9 Axes>"
      ]
     },
     "metadata": {},
     "output_type": "display_data"
    }
   ],
   "source": [
    "figure = plt.figure(figsize=(8, 8))\n",
    "cols, rows = 3, 3\n",
    "for i in range(1, cols * rows + 1):\n",
    "    sample_idx = torch.randint(len(train_dataset), size=(1,)).item()\n",
    "    img, label = train_dataset[sample_idx]\n",
    "    figure.add_subplot(rows, cols, i)\n",
    "    plt.title(f\"{label} ({sample_idx})\")\n",
    "    plt.axis(\"off\")\n",
    "    plt.imshow(img.T.squeeze())\n",
    "    print(img.shape)\n",
    "plt.show()"
   ]
  },
  {
   "cell_type": "code",
   "execution_count": 15,
   "id": "2016b08378d365c2",
   "metadata": {
    "ExecuteTime": {
     "end_time": "2024-03-04T20:29:15.805799Z",
     "start_time": "2024-03-04T20:29:15.625414Z"
    }
   },
   "outputs": [
    {
     "name": "stdout",
     "output_type": "stream",
     "text": [
      "Feature batch shape: torch.Size([1000, 1, 28, 28])\n",
      "Feature batch shape: torch.Size([1000, 1, 28, 28])\n"
     ]
    },
    {
     "data": {
      "image/png": "[encoded data removed]",
      "text/plain": [
       "<Figure size 640x480 with 1 Axes>"
      ]
     },
     "metadata": {},
     "output_type": "display_data"
    },
    {
     "name": "stdout",
     "output_type": "stream",
     "text": [
      "Label: 4\n"
     ]
    }
   ],
   "source": [
    "train_features, train_labels = next(iter(train_dataloader))\n",
    "print(f\"Feature batch shape: {train_features.size()}\")\n",
    "print(f\"Feature batch shape: {train_features.size()}\")\n",
    "idx = 2\n",
    "img = train_features[idx].squeeze()\n",
    "label = train_labels[idx]\n",
    "plt.imshow(transforms.ToPILImage()(img))\n",
    "plt.show()\n",
    "print(f\"Label: {label}\")"
   ]
  },
  {
   "cell_type": "code",
   "execution_count": 128,
   "id": "ec5fbffc3711d23",
   "metadata": {
    "ExecuteTime": {
     "end_time": "2024-03-04T20:29:15.819542Z",
     "start_time": "2024-03-04T20:29:15.816063Z"
    }
   },
   "outputs": [],
   "source": [
    "class NeuralNetwork(nn.Module):\n",
    "    def __init__(self):\n",
    "        super().__init__()\n",
    "        \n",
    "        self.flatten = nn.Flatten()\n",
    "        self.linear_relu_stack = nn.Sequential(\n",
    "            nn.Linear(28*28, 256),\n",
    "            nn.ReLU(),\n",
    "            nn.Linear(256, 24),\n",
    "            nn.ReLU(),\n",
    "            nn.Linear(24, 10)\n",
    "        )\n",
    "        \n",
    "    def forward(self, x):\n",
    "        x = self.flatten(x)\n",
    "        return self.linear_relu_stack(x)"
   ]
  },
  {
   "cell_type": "code",
   "execution_count": 145,
   "id": "7d42c7e33cc8ef10",
   "metadata": {
    "ExecuteTime": {
     "end_time": "2024-03-04T20:29:15.826164Z",
     "start_time": "2024-03-04T20:29:15.824302Z"
    }
   },
   "outputs": [],
   "source": [
    "epochs = 101\n",
    "model = NeuralNetwork()"
   ]
  },
  {
   "cell_type": "code",
   "execution_count": 146,
   "id": "c559001fefdc6d45",
   "metadata": {
    "ExecuteTime": {
     "end_time": "2024-03-04T20:29:15.829921Z",
     "start_time": "2024-03-04T20:29:15.827168Z"
    }
   },
   "outputs": [],
   "source": [
    "loss_function = nn.CrossEntropyLoss()\n",
    "optimizer = optim.SGD(model.parameters(), lr=0.01, momentum=0.95)\n",
    "#optimizer = optim.Adam(model.parameters(), lr=0.0001)"
   ]
  },
  {
   "cell_type": "code",
   "execution_count": 147,
   "id": "c5572de9899a376c",
   "metadata": {
    "ExecuteTime": {
     "end_time": "2024-03-04T20:29:15.833107Z",
     "start_time": "2024-03-04T20:29:15.829921Z"
    }
   },
   "outputs": [],
   "source": [
    "train_losses = []\n",
    "valid_losses = []\n",
    "train_accuracy = []\n",
    "valid_accuracy = []"
   ]
  },
  {
   "cell_type": "code",
   "execution_count": 148,
   "id": "555d5893ff0fca60",
   "metadata": {
    "ExecuteTime": {
     "end_time": "2024-03-04T20:31:11.895326Z",
     "start_time": "2024-03-04T20:29:15.834113Z"
    }
   },
   "outputs": [
    {
     "name": "stdout",
     "output_type": "stream",
     "text": [
      "Epoch: 0, Loss: 2.032193, Valid: 1.370533, Accuracy train: 36.94, Accuracy valid: 59.80\n",
      "Epoch: 5, Loss: 0.295022, Valid: 0.299095, Accuracy train: 91.37, Accuracy valid: 90.88\n",
      "Epoch: 10, Loss: 0.217387, Valid: 0.227261, Accuracy train: 93.78, Accuracy valid: 93.02\n",
      "Epoch: 15, Loss: 0.160570, Valid: 0.184327, Accuracy train: 95.43, Accuracy valid: 94.47\n",
      "Epoch: 20, Loss: 0.121141, Valid: 0.146601, Accuracy train: 96.50, Accuracy valid: 95.93\n",
      "Epoch: 25, Loss: 0.099318, Valid: 0.130019, Accuracy train: 97.11, Accuracy valid: 96.25\n",
      "Epoch: 30, Loss: 0.075195, Valid: 0.116811, Accuracy train: 97.91, Accuracy valid: 96.72\n",
      "Epoch: 35, Loss: 0.059216, Valid: 0.110405, Accuracy train: 98.38, Accuracy valid: 96.88\n",
      "Epoch: 40, Loss: 0.047578, Valid: 0.101574, Accuracy train: 98.75, Accuracy valid: 97.30\n",
      "Epoch: 45, Loss: 0.040534, Valid: 0.098925, Accuracy train: 98.93, Accuracy valid: 97.37\n",
      "Epoch: 50, Loss: 0.031003, Valid: 0.097030, Accuracy train: 99.25, Accuracy valid: 97.35\n",
      "Epoch: 55, Loss: 0.025067, Valid: 0.095290, Accuracy train: 99.47, Accuracy valid: 97.37\n",
      "Epoch: 60, Loss: 0.019390, Valid: 0.093009, Accuracy train: 99.66, Accuracy valid: 97.40\n",
      "Epoch: 65, Loss: 0.016106, Valid: 0.091704, Accuracy train: 99.79, Accuracy valid: 97.57\n",
      "Epoch: 70, Loss: 0.013751, Valid: 0.093467, Accuracy train: 99.84, Accuracy valid: 97.40\n",
      "Epoch: 75, Loss: 0.010676, Valid: 0.094841, Accuracy train: 99.89, Accuracy valid: 97.52\n",
      "Epoch: 80, Loss: 0.009063, Valid: 0.094432, Accuracy train: 99.93, Accuracy valid: 97.58\n",
      "Epoch: 85, Loss: 0.007175, Valid: 0.095244, Accuracy train: 99.96, Accuracy valid: 97.57\n",
      "Epoch: 90, Loss: 0.006309, Valid: 0.096410, Accuracy train: 99.96, Accuracy valid: 97.67\n",
      "Epoch: 95, Loss: 0.005173, Valid: 0.096967, Accuracy train: 99.98, Accuracy valid: 97.73\n",
      "Epoch: 100, Loss: 0.004819, Valid: 0.102190, Accuracy train: 99.98, Accuracy valid: 97.58\n"
     ]
    }
   ],
   "source": [
    "train_size = len(train_dataloader.dataset)\n",
    "valid_size = len(valid_dataloader.dataset)\n",
    "\n",
    "model = model.to(device)\n",
    "\n",
    "for i in range(epochs):   \n",
    "    epoch_losses = []\n",
    "    epoch_valid_losses = []\n",
    "    train_samples = 0\n",
    "    train_correct = 0\n",
    "    valid_samples = 0\n",
    "    valid_correct = 0\n",
    "    \n",
    "    for X_train, y_train in train_dataloader:\n",
    "        X_train = X_train.to(device)\n",
    "        y_train = y_train.to(device)\n",
    "        \n",
    "        optimizer.zero_grad()\n",
    "        y_pred = model.forward(X_train)\n",
    "        \n",
    "        loss = loss_function(y_pred, y_train)\n",
    "        epoch_losses.append(loss.item())\n",
    "        \n",
    "        _, predicted = torch.max(y_pred, 1)\n",
    "        train_correct += (predicted == y_train).sum().item()\n",
    "        train_samples += y_train.size(0)\n",
    "        \n",
    "        loss.backward()\n",
    "        optimizer.step()\n",
    "    \n",
    "    accuracy = 100 * train_correct / train_samples\n",
    "    epoch_loss = torch.tensor(epoch_losses).mean()\n",
    "    train_losses.append(epoch_loss)\n",
    "    train_accuracy.append(accuracy)\n",
    "    \n",
    "    with torch.no_grad():\n",
    "        valid_losses_local = []\n",
    "        for X_valid, y_valid in valid_dataloader:\n",
    "            X_valid = X_valid.to(device)\n",
    "            y_valid = y_valid.to(device)\n",
    "            y_pred = model.forward(X_valid)\n",
    "            loss = loss_function(y_pred, y_valid)\n",
    "            \n",
    "            valid_losses_local.append(loss.item())\n",
    "            \n",
    "            _, predicted = torch.max(y_pred, 1)\n",
    "            valid_correct += (predicted == y_valid).sum().item()\n",
    "            valid_samples += y_valid.size(0)\n",
    "        \n",
    "        v_accuracy = 100 * valid_correct / valid_samples\n",
    "        valid_loss = torch.tensor(valid_losses_local).mean()\n",
    "        valid_losses.append(valid_loss)\n",
    "        valid_accuracy.append(v_accuracy)\n",
    "        \n",
    "    if i % 5 == 0:\n",
    "        print(f'Epoch: {i}, Loss: {epoch_loss:.6f}, Valid: {valid_loss:.6f}, Accuracy train: {accuracy:.2f}, Accuracy valid: {v_accuracy:.2f}')"
   ]
  },
  {
   "cell_type": "code",
   "execution_count": 149,
   "id": "39ad68b8b43fdf45",
   "metadata": {
    "ExecuteTime": {
     "start_time": "2024-03-04T20:31:11.896333Z"
    }
   },
   "outputs": [
    {
     "data": {
      "image/png": "[encoded data removed]",
      "text/plain": [
       "<Figure size 1200x500 with 2 Axes>"
      ]
     },
     "metadata": {},
     "output_type": "display_data"
    }
   ],
   "source": [
    "plt.figure(figsize=(12, 5))\n",
    "plt.subplot(1, 2, 1)\n",
    "plt.plot(range(epochs), train_losses, valid_losses)\n",
    "plt.title('Average loss over time')\n",
    "plt.ylabel(\"loss/error\")\n",
    "plt.xlabel(\"Epoch\")\n",
    "plt.legend(['Train', 'Valid'])\n",
    "\n",
    "plt.subplot(1, 2, 2)\n",
    "plt.plot(range(epochs), train_accuracy, valid_accuracy)\n",
    "plt.title('Accuracy over time')\n",
    "plt.ylabel(\"Accuracy\")\n",
    "plt.xlabel(\"Epoch\")\n",
    "plt.legend(['Train', 'Valid'])\n",
    "plt.savefig('./assets/pytorch_simple_train.png')\n",
    "plt.show()"
   ]
  },
  {
   "cell_type": "code",
   "execution_count": 150,
   "id": "6de2fd7fb0fda235",
   "metadata": {},
   "outputs": [],
   "source": [
    "torch.save(model.state_dict(), 'simple_model.pt') "
   ]
  },
  {
   "cell_type": "code",
   "execution_count": 151,
   "id": "4f5d4edad14c622e",
   "metadata": {
    "ExecuteTime": {
     "start_time": "2024-03-04T20:31:11.897336Z"
    }
   },
   "outputs": [
    {
     "data": {
      "text/plain": [
       "NeuralNetwork(\n",
       "  (flatten): Flatten(start_dim=1, end_dim=-1)\n",
       "  (linear_relu_stack): Sequential(\n",
       "    (0): Linear(in_features=784, out_features=256, bias=True)\n",
       "    (1): ReLU()\n",
       "    (2): Linear(in_features=256, out_features=24, bias=True)\n",
       "    (3): ReLU()\n",
       "    (4): Linear(in_features=24, out_features=10, bias=True)\n",
       "  )\n",
       ")"
      ]
     },
     "execution_count": 151,
     "metadata": {},
     "output_type": "execute_result"
    }
   ],
   "source": [
    "model = NeuralNetwork()\n",
    "model.load_state_dict(torch.load('simple_model.pt'))\n",
    "model.eval()"
   ]
  },
  {
   "cell_type": "code",
   "execution_count": 152,
   "id": "bd36e75d42b53063",
   "metadata": {
    "ExecuteTime": {
     "start_time": "2024-03-04T20:31:11.898336Z"
    }
   },
   "outputs": [
    {
     "name": "stdout",
     "output_type": "stream",
     "text": [
      "Test accuracy: 97.29\n"
     ]
    }
   ],
   "source": [
    "test_correct = 0\n",
    "test_sample = 0\n",
    "for X_test, y_test in test_dataloader:\n",
    "    y_pred = model.forward(X_test)\n",
    "\n",
    "    _, predicted = torch.max(y_pred, 1)\n",
    "    test_correct += (predicted == y_test).sum().item()\n",
    "    test_sample += y_test.size(0)\n",
    "    \n",
    "accuracy = 100 * test_correct / test_sample\n",
    "print(f\"Test accuracy: {accuracy:.2f}\")"
   ]
  },
  {
   "cell_type": "code",
   "execution_count": 153,
   "id": "a31b61f290e1e960",
   "metadata": {
    "ExecuteTime": {
     "start_time": "2024-03-04T20:31:11.899336Z"
    }
   },
   "outputs": [
    {
     "data": {
      "image/jpeg": "[encoded data removed]",
      "image/png": "[encoded data removed]",
      "text/plain": [
       "<PIL.Image.Image image mode=L size=256x256>"
      ]
     },
     "execution_count": 153,
     "metadata": {},
     "output_type": "execute_result"
    }
   ],
   "source": [
    "(transforms.Compose([\n",
    "    transforms.ToPILImage(),\n",
    "    transforms.Resize(256),\n",
    "])\n",
    "(test_dataset[10][0]))"
   ]
  },
  {
   "cell_type": "code",
   "execution_count": 154,
   "id": "b1298c6519d2c371",
   "metadata": {
    "ExecuteTime": {
     "start_time": "2024-03-04T20:31:11.899336Z"
    }
   },
   "outputs": [
    {
     "data": {
      "text/plain": [
       "5"
      ]
     },
     "execution_count": 154,
     "metadata": {},
     "output_type": "execute_result"
    }
   ],
   "source": [
    "test_dataset[10][1]"
   ]
  },
  {
   "cell_type": "code",
   "execution_count": 155,
   "id": "452ea2c54ed031fa",
   "metadata": {
    "ExecuteTime": {
     "start_time": "2024-03-04T20:31:11.900336Z"
    }
   },
   "outputs": [
    {
     "data": {
      "text/plain": [
       "tensor([[ 0.3262, -8.1487, -6.5854,  4.9555, -3.8585, 16.6909, -2.6191, -5.3758,\n",
       "          6.5522,  7.3577]], grad_fn=<AddmmBackward0>)"
      ]
     },
     "execution_count": 155,
     "metadata": {},
     "output_type": "execute_result"
    }
   ],
   "source": [
    "model(test_dataset[10][0])"
   ]
  },
  {
   "cell_type": "code",
   "execution_count": 156,
   "id": "6d5d4ccaa4a6d0ea",
   "metadata": {
    "ExecuteTime": {
     "start_time": "2024-03-04T20:31:11.901337Z"
    }
   },
   "outputs": [
    {
     "data": {
      "text/plain": [
       "torch.return_types.max(\n",
       "values=tensor([16.6909], grad_fn=<MaxBackward0>),\n",
       "indices=tensor([5]))"
      ]
     },
     "execution_count": 156,
     "metadata": {},
     "output_type": "execute_result"
    }
   ],
   "source": [
    "torch.max(model(test_dataset[10][0]), 1)"
   ]
  },
  {
   "cell_type": "code",
   "execution_count": null,
   "id": "e974d97ed2a853bb",
   "metadata": {
    "ExecuteTime": {
     "start_time": "2024-03-04T20:31:11.901337Z"
    }
   },
   "outputs": [],
   "source": []
  }
 ],
 "metadata": {
  "kernelspec": {
   "display_name": "Python 3 (ipykernel)",
   "language": "python",
   "name": "python3"
  },
  "language_info": {
   "codemirror_mode": {
    "name": "ipython",
    "version": 3
   },
   "file_extension": ".py",
   "mimetype": "text/x-python",
   "name": "python",
   "nbconvert_exporter": "python",
   "pygments_lexer": "ipython3",
   "version": "3.11.8"
  }
 },
 "nbformat": 4,
 "nbformat_minor": 5
}
